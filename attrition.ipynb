{
  "cells": [
    {
      "cell_type": "markdown",
      "metadata": {
        "id": "alIIEHibGc3M"
      },
      "source": [
        "## Part 1: Preprocessing"
      ]
    },
    {
      "cell_type": "code",
      "execution_count": 19,
      "metadata": {
        "colab": {
          "base_uri": "https://localhost:8080/",
          "height": 325
        },
        "id": "6eDUJ4NtGc3P",
        "outputId": "6284a0c7-64f2-472e-ef20-2a4dbc5e9107"
      },
      "outputs": [
        {
          "output_type": "execute_result",
          "data": {
            "text/plain": [
              "   Age Attrition     BusinessTravel              Department  DistanceFromHome  \\\n",
              "0   41       Yes      Travel_Rarely                   Sales                 1   \n",
              "1   49        No  Travel_Frequently  Research & Development                 8   \n",
              "2   37       Yes      Travel_Rarely  Research & Development                 2   \n",
              "3   33        No  Travel_Frequently  Research & Development                 3   \n",
              "4   27        No      Travel_Rarely  Research & Development                 2   \n",
              "\n",
              "   Education EducationField  EnvironmentSatisfaction  HourlyRate  \\\n",
              "0          2  Life Sciences                        2          94   \n",
              "1          1  Life Sciences                        3          61   \n",
              "2          2          Other                        4          92   \n",
              "3          4  Life Sciences                        4          56   \n",
              "4          1        Medical                        1          40   \n",
              "\n",
              "   JobInvolvement  ...  PerformanceRating RelationshipSatisfaction  \\\n",
              "0               3  ...                  3                        1   \n",
              "1               2  ...                  4                        4   \n",
              "2               2  ...                  3                        2   \n",
              "3               3  ...                  3                        3   \n",
              "4               3  ...                  3                        4   \n",
              "\n",
              "   StockOptionLevel TotalWorkingYears  TrainingTimesLastYear WorkLifeBalance  \\\n",
              "0                 0                 8                      0               1   \n",
              "1                 1                10                      3               3   \n",
              "2                 0                 7                      3               3   \n",
              "3                 0                 8                      3               3   \n",
              "4                 1                 6                      3               3   \n",
              "\n",
              "   YearsAtCompany  YearsInCurrentRole  YearsSinceLastPromotion  \\\n",
              "0               6                   4                        0   \n",
              "1              10                   7                        1   \n",
              "2               0                   0                        0   \n",
              "3               8                   7                        3   \n",
              "4               2                   2                        2   \n",
              "\n",
              "   YearsWithCurrManager  \n",
              "0                     5  \n",
              "1                     7  \n",
              "2                     0  \n",
              "3                     0  \n",
              "4                     2  \n",
              "\n",
              "[5 rows x 27 columns]"
            ],
            "text/html": [
              "\n",
              "  <div id=\"df-373ccd92-9fd2-468b-89ab-4770cb48ace9\" class=\"colab-df-container\">\n",
              "    <div>\n",
              "<style scoped>\n",
              "    .dataframe tbody tr th:only-of-type {\n",
              "        vertical-align: middle;\n",
              "    }\n",
              "\n",
              "    .dataframe tbody tr th {\n",
              "        vertical-align: top;\n",
              "    }\n",
              "\n",
              "    .dataframe thead th {\n",
              "        text-align: right;\n",
              "    }\n",
              "</style>\n",
              "<table border=\"1\" class=\"dataframe\">\n",
              "  <thead>\n",
              "    <tr style=\"text-align: right;\">\n",
              "      <th></th>\n",
              "      <th>Age</th>\n",
              "      <th>Attrition</th>\n",
              "      <th>BusinessTravel</th>\n",
              "      <th>Department</th>\n",
              "      <th>DistanceFromHome</th>\n",
              "      <th>Education</th>\n",
              "      <th>EducationField</th>\n",
              "      <th>EnvironmentSatisfaction</th>\n",
              "      <th>HourlyRate</th>\n",
              "      <th>JobInvolvement</th>\n",
              "      <th>...</th>\n",
              "      <th>PerformanceRating</th>\n",
              "      <th>RelationshipSatisfaction</th>\n",
              "      <th>StockOptionLevel</th>\n",
              "      <th>TotalWorkingYears</th>\n",
              "      <th>TrainingTimesLastYear</th>\n",
              "      <th>WorkLifeBalance</th>\n",
              "      <th>YearsAtCompany</th>\n",
              "      <th>YearsInCurrentRole</th>\n",
              "      <th>YearsSinceLastPromotion</th>\n",
              "      <th>YearsWithCurrManager</th>\n",
              "    </tr>\n",
              "  </thead>\n",
              "  <tbody>\n",
              "    <tr>\n",
              "      <th>0</th>\n",
              "      <td>41</td>\n",
              "      <td>Yes</td>\n",
              "      <td>Travel_Rarely</td>\n",
              "      <td>Sales</td>\n",
              "      <td>1</td>\n",
              "      <td>2</td>\n",
              "      <td>Life Sciences</td>\n",
              "      <td>2</td>\n",
              "      <td>94</td>\n",
              "      <td>3</td>\n",
              "      <td>...</td>\n",
              "      <td>3</td>\n",
              "      <td>1</td>\n",
              "      <td>0</td>\n",
              "      <td>8</td>\n",
              "      <td>0</td>\n",
              "      <td>1</td>\n",
              "      <td>6</td>\n",
              "      <td>4</td>\n",
              "      <td>0</td>\n",
              "      <td>5</td>\n",
              "    </tr>\n",
              "    <tr>\n",
              "      <th>1</th>\n",
              "      <td>49</td>\n",
              "      <td>No</td>\n",
              "      <td>Travel_Frequently</td>\n",
              "      <td>Research &amp; Development</td>\n",
              "      <td>8</td>\n",
              "      <td>1</td>\n",
              "      <td>Life Sciences</td>\n",
              "      <td>3</td>\n",
              "      <td>61</td>\n",
              "      <td>2</td>\n",
              "      <td>...</td>\n",
              "      <td>4</td>\n",
              "      <td>4</td>\n",
              "      <td>1</td>\n",
              "      <td>10</td>\n",
              "      <td>3</td>\n",
              "      <td>3</td>\n",
              "      <td>10</td>\n",
              "      <td>7</td>\n",
              "      <td>1</td>\n",
              "      <td>7</td>\n",
              "    </tr>\n",
              "    <tr>\n",
              "      <th>2</th>\n",
              "      <td>37</td>\n",
              "      <td>Yes</td>\n",
              "      <td>Travel_Rarely</td>\n",
              "      <td>Research &amp; Development</td>\n",
              "      <td>2</td>\n",
              "      <td>2</td>\n",
              "      <td>Other</td>\n",
              "      <td>4</td>\n",
              "      <td>92</td>\n",
              "      <td>2</td>\n",
              "      <td>...</td>\n",
              "      <td>3</td>\n",
              "      <td>2</td>\n",
              "      <td>0</td>\n",
              "      <td>7</td>\n",
              "      <td>3</td>\n",
              "      <td>3</td>\n",
              "      <td>0</td>\n",
              "      <td>0</td>\n",
              "      <td>0</td>\n",
              "      <td>0</td>\n",
              "    </tr>\n",
              "    <tr>\n",
              "      <th>3</th>\n",
              "      <td>33</td>\n",
              "      <td>No</td>\n",
              "      <td>Travel_Frequently</td>\n",
              "      <td>Research &amp; Development</td>\n",
              "      <td>3</td>\n",
              "      <td>4</td>\n",
              "      <td>Life Sciences</td>\n",
              "      <td>4</td>\n",
              "      <td>56</td>\n",
              "      <td>3</td>\n",
              "      <td>...</td>\n",
              "      <td>3</td>\n",
              "      <td>3</td>\n",
              "      <td>0</td>\n",
              "      <td>8</td>\n",
              "      <td>3</td>\n",
              "      <td>3</td>\n",
              "      <td>8</td>\n",
              "      <td>7</td>\n",
              "      <td>3</td>\n",
              "      <td>0</td>\n",
              "    </tr>\n",
              "    <tr>\n",
              "      <th>4</th>\n",
              "      <td>27</td>\n",
              "      <td>No</td>\n",
              "      <td>Travel_Rarely</td>\n",
              "      <td>Research &amp; Development</td>\n",
              "      <td>2</td>\n",
              "      <td>1</td>\n",
              "      <td>Medical</td>\n",
              "      <td>1</td>\n",
              "      <td>40</td>\n",
              "      <td>3</td>\n",
              "      <td>...</td>\n",
              "      <td>3</td>\n",
              "      <td>4</td>\n",
              "      <td>1</td>\n",
              "      <td>6</td>\n",
              "      <td>3</td>\n",
              "      <td>3</td>\n",
              "      <td>2</td>\n",
              "      <td>2</td>\n",
              "      <td>2</td>\n",
              "      <td>2</td>\n",
              "    </tr>\n",
              "  </tbody>\n",
              "</table>\n",
              "<p>5 rows × 27 columns</p>\n",
              "</div>\n",
              "    <div class=\"colab-df-buttons\">\n",
              "\n",
              "  <div class=\"colab-df-container\">\n",
              "    <button class=\"colab-df-convert\" onclick=\"convertToInteractive('df-373ccd92-9fd2-468b-89ab-4770cb48ace9')\"\n",
              "            title=\"Convert this dataframe to an interactive table.\"\n",
              "            style=\"display:none;\">\n",
              "\n",
              "  <svg xmlns=\"http://www.w3.org/2000/svg\" height=\"24px\" viewBox=\"0 -960 960 960\">\n",
              "    <path d=\"M120-120v-720h720v720H120Zm60-500h600v-160H180v160Zm220 220h160v-160H400v160Zm0 220h160v-160H400v160ZM180-400h160v-160H180v160Zm440 0h160v-160H620v160ZM180-180h160v-160H180v160Zm440 0h160v-160H620v160Z\"/>\n",
              "  </svg>\n",
              "    </button>\n",
              "\n",
              "  <style>\n",
              "    .colab-df-container {\n",
              "      display:flex;\n",
              "      gap: 12px;\n",
              "    }\n",
              "\n",
              "    .colab-df-convert {\n",
              "      background-color: #E8F0FE;\n",
              "      border: none;\n",
              "      border-radius: 50%;\n",
              "      cursor: pointer;\n",
              "      display: none;\n",
              "      fill: #1967D2;\n",
              "      height: 32px;\n",
              "      padding: 0 0 0 0;\n",
              "      width: 32px;\n",
              "    }\n",
              "\n",
              "    .colab-df-convert:hover {\n",
              "      background-color: #E2EBFA;\n",
              "      box-shadow: 0px 1px 2px rgba(60, 64, 67, 0.3), 0px 1px 3px 1px rgba(60, 64, 67, 0.15);\n",
              "      fill: #174EA6;\n",
              "    }\n",
              "\n",
              "    .colab-df-buttons div {\n",
              "      margin-bottom: 4px;\n",
              "    }\n",
              "\n",
              "    [theme=dark] .colab-df-convert {\n",
              "      background-color: #3B4455;\n",
              "      fill: #D2E3FC;\n",
              "    }\n",
              "\n",
              "    [theme=dark] .colab-df-convert:hover {\n",
              "      background-color: #434B5C;\n",
              "      box-shadow: 0px 1px 3px 1px rgba(0, 0, 0, 0.15);\n",
              "      filter: drop-shadow(0px 1px 2px rgba(0, 0, 0, 0.3));\n",
              "      fill: #FFFFFF;\n",
              "    }\n",
              "  </style>\n",
              "\n",
              "    <script>\n",
              "      const buttonEl =\n",
              "        document.querySelector('#df-373ccd92-9fd2-468b-89ab-4770cb48ace9 button.colab-df-convert');\n",
              "      buttonEl.style.display =\n",
              "        google.colab.kernel.accessAllowed ? 'block' : 'none';\n",
              "\n",
              "      async function convertToInteractive(key) {\n",
              "        const element = document.querySelector('#df-373ccd92-9fd2-468b-89ab-4770cb48ace9');\n",
              "        const dataTable =\n",
              "          await google.colab.kernel.invokeFunction('convertToInteractive',\n",
              "                                                    [key], {});\n",
              "        if (!dataTable) return;\n",
              "\n",
              "        const docLinkHtml = 'Like what you see? Visit the ' +\n",
              "          '<a target=\"_blank\" href=https://colab.research.google.com/notebooks/data_table.ipynb>data table notebook</a>'\n",
              "          + ' to learn more about interactive tables.';\n",
              "        element.innerHTML = '';\n",
              "        dataTable['output_type'] = 'display_data';\n",
              "        await google.colab.output.renderOutput(dataTable, element);\n",
              "        const docLink = document.createElement('div');\n",
              "        docLink.innerHTML = docLinkHtml;\n",
              "        element.appendChild(docLink);\n",
              "      }\n",
              "    </script>\n",
              "  </div>\n",
              "\n",
              "\n",
              "<div id=\"df-026518d4-ec7a-4a89-ad8f-2b5979b146f2\">\n",
              "  <button class=\"colab-df-quickchart\" onclick=\"quickchart('df-026518d4-ec7a-4a89-ad8f-2b5979b146f2')\"\n",
              "            title=\"Suggest charts\"\n",
              "            style=\"display:none;\">\n",
              "\n",
              "<svg xmlns=\"http://www.w3.org/2000/svg\" height=\"24px\"viewBox=\"0 0 24 24\"\n",
              "     width=\"24px\">\n",
              "    <g>\n",
              "        <path d=\"M19 3H5c-1.1 0-2 .9-2 2v14c0 1.1.9 2 2 2h14c1.1 0 2-.9 2-2V5c0-1.1-.9-2-2-2zM9 17H7v-7h2v7zm4 0h-2V7h2v10zm4 0h-2v-4h2v4z\"/>\n",
              "    </g>\n",
              "</svg>\n",
              "  </button>\n",
              "\n",
              "<style>\n",
              "  .colab-df-quickchart {\n",
              "      --bg-color: #E8F0FE;\n",
              "      --fill-color: #1967D2;\n",
              "      --hover-bg-color: #E2EBFA;\n",
              "      --hover-fill-color: #174EA6;\n",
              "      --disabled-fill-color: #AAA;\n",
              "      --disabled-bg-color: #DDD;\n",
              "  }\n",
              "\n",
              "  [theme=dark] .colab-df-quickchart {\n",
              "      --bg-color: #3B4455;\n",
              "      --fill-color: #D2E3FC;\n",
              "      --hover-bg-color: #434B5C;\n",
              "      --hover-fill-color: #FFFFFF;\n",
              "      --disabled-bg-color: #3B4455;\n",
              "      --disabled-fill-color: #666;\n",
              "  }\n",
              "\n",
              "  .colab-df-quickchart {\n",
              "    background-color: var(--bg-color);\n",
              "    border: none;\n",
              "    border-radius: 50%;\n",
              "    cursor: pointer;\n",
              "    display: none;\n",
              "    fill: var(--fill-color);\n",
              "    height: 32px;\n",
              "    padding: 0;\n",
              "    width: 32px;\n",
              "  }\n",
              "\n",
              "  .colab-df-quickchart:hover {\n",
              "    background-color: var(--hover-bg-color);\n",
              "    box-shadow: 0 1px 2px rgba(60, 64, 67, 0.3), 0 1px 3px 1px rgba(60, 64, 67, 0.15);\n",
              "    fill: var(--button-hover-fill-color);\n",
              "  }\n",
              "\n",
              "  .colab-df-quickchart-complete:disabled,\n",
              "  .colab-df-quickchart-complete:disabled:hover {\n",
              "    background-color: var(--disabled-bg-color);\n",
              "    fill: var(--disabled-fill-color);\n",
              "    box-shadow: none;\n",
              "  }\n",
              "\n",
              "  .colab-df-spinner {\n",
              "    border: 2px solid var(--fill-color);\n",
              "    border-color: transparent;\n",
              "    border-bottom-color: var(--fill-color);\n",
              "    animation:\n",
              "      spin 1s steps(1) infinite;\n",
              "  }\n",
              "\n",
              "  @keyframes spin {\n",
              "    0% {\n",
              "      border-color: transparent;\n",
              "      border-bottom-color: var(--fill-color);\n",
              "      border-left-color: var(--fill-color);\n",
              "    }\n",
              "    20% {\n",
              "      border-color: transparent;\n",
              "      border-left-color: var(--fill-color);\n",
              "      border-top-color: var(--fill-color);\n",
              "    }\n",
              "    30% {\n",
              "      border-color: transparent;\n",
              "      border-left-color: var(--fill-color);\n",
              "      border-top-color: var(--fill-color);\n",
              "      border-right-color: var(--fill-color);\n",
              "    }\n",
              "    40% {\n",
              "      border-color: transparent;\n",
              "      border-right-color: var(--fill-color);\n",
              "      border-top-color: var(--fill-color);\n",
              "    }\n",
              "    60% {\n",
              "      border-color: transparent;\n",
              "      border-right-color: var(--fill-color);\n",
              "    }\n",
              "    80% {\n",
              "      border-color: transparent;\n",
              "      border-right-color: var(--fill-color);\n",
              "      border-bottom-color: var(--fill-color);\n",
              "    }\n",
              "    90% {\n",
              "      border-color: transparent;\n",
              "      border-bottom-color: var(--fill-color);\n",
              "    }\n",
              "  }\n",
              "</style>\n",
              "\n",
              "  <script>\n",
              "    async function quickchart(key) {\n",
              "      const quickchartButtonEl =\n",
              "        document.querySelector('#' + key + ' button');\n",
              "      quickchartButtonEl.disabled = true;  // To prevent multiple clicks.\n",
              "      quickchartButtonEl.classList.add('colab-df-spinner');\n",
              "      try {\n",
              "        const charts = await google.colab.kernel.invokeFunction(\n",
              "            'suggestCharts', [key], {});\n",
              "      } catch (error) {\n",
              "        console.error('Error during call to suggestCharts:', error);\n",
              "      }\n",
              "      quickchartButtonEl.classList.remove('colab-df-spinner');\n",
              "      quickchartButtonEl.classList.add('colab-df-quickchart-complete');\n",
              "    }\n",
              "    (() => {\n",
              "      let quickchartButtonEl =\n",
              "        document.querySelector('#df-026518d4-ec7a-4a89-ad8f-2b5979b146f2 button');\n",
              "      quickchartButtonEl.style.display =\n",
              "        google.colab.kernel.accessAllowed ? 'block' : 'none';\n",
              "    })();\n",
              "  </script>\n",
              "</div>\n",
              "\n",
              "    </div>\n",
              "  </div>\n"
            ],
            "application/vnd.google.colaboratory.intrinsic+json": {
              "type": "dataframe",
              "variable_name": "attrition_df"
            }
          },
          "metadata": {},
          "execution_count": 19
        }
      ],
      "source": [
        "# Import our dependencies\n",
        "from sklearn.model_selection import train_test_split\n",
        "from sklearn.preprocessing import StandardScaler\n",
        "import pandas as pd\n",
        "import numpy as np\n",
        "import tensorflow as tf\n",
        "from tensorflow.keras.models import Model\n",
        "from tensorflow.keras import layers\n",
        "\n",
        "#  Import and read the attrition data\n",
        "attrition_df = pd.read_csv('https://static.bc-edx.com/ai/ail-v-1-0/m19/lms/datasets/attrition.csv')\n",
        "attrition_df.head()"
      ]
    },
    {
      "cell_type": "code",
      "execution_count": 20,
      "metadata": {
        "colab": {
          "base_uri": "https://localhost:8080/"
        },
        "id": "g22aQSY4Gc3Q",
        "outputId": "61de55e4-9c79-413a-fcb8-5beccedd575f"
      },
      "outputs": [
        {
          "output_type": "execute_result",
          "data": {
            "text/plain": [
              "Age                         43\n",
              "Attrition                    2\n",
              "BusinessTravel               3\n",
              "Department                   3\n",
              "DistanceFromHome            29\n",
              "Education                    5\n",
              "EducationField               6\n",
              "EnvironmentSatisfaction      4\n",
              "HourlyRate                  71\n",
              "JobInvolvement               4\n",
              "JobLevel                     5\n",
              "JobRole                      9\n",
              "JobSatisfaction              4\n",
              "MaritalStatus                3\n",
              "NumCompaniesWorked          10\n",
              "OverTime                     2\n",
              "PercentSalaryHike           15\n",
              "PerformanceRating            2\n",
              "RelationshipSatisfaction     4\n",
              "StockOptionLevel             4\n",
              "TotalWorkingYears           40\n",
              "TrainingTimesLastYear        7\n",
              "WorkLifeBalance              4\n",
              "YearsAtCompany              37\n",
              "YearsInCurrentRole          19\n",
              "YearsSinceLastPromotion     16\n",
              "YearsWithCurrManager        18\n",
              "dtype: int64"
            ]
          },
          "metadata": {},
          "execution_count": 20
        }
      ],
      "source": [
        "# Determine the number of unique values in each column.\n",
        "attrition_df.nunique()"
      ]
    },
    {
      "cell_type": "code",
      "execution_count": 21,
      "metadata": {
        "id": "50vMgBEnJbfM"
      },
      "outputs": [],
      "source": [
        "# Create y_df with the Attrition and Department columns\n",
        "y_df = attrition_df[['Attrition', 'Department']]\n"
      ]
    },
    {
      "cell_type": "code",
      "execution_count": 22,
      "metadata": {
        "colab": {
          "base_uri": "https://localhost:8080/"
        },
        "id": "Virka0zLGc3R",
        "outputId": "09af2104-0a01-40ea-83ec-6fe657ee1655"
      },
      "outputs": [
        {
          "output_type": "stream",
          "name": "stdout",
          "text": [
            "Age                         int64\n",
            "DistanceFromHome            int64\n",
            "Education                   int64\n",
            "EnvironmentSatisfaction     int64\n",
            "HourlyRate                  int64\n",
            "JobInvolvement              int64\n",
            "JobLevel                    int64\n",
            "JobRole                    object\n",
            "MaritalStatus              object\n",
            "WorkLifeBalance             int64\n",
            "dtype: object\n"
          ]
        }
      ],
      "source": [
        "# Create a list of at least 10 column names to use as X data\n",
        "selected_columns = ['Age', 'DistanceFromHome', 'Education', 'EnvironmentSatisfaction',\n",
        "                    'HourlyRate', 'JobInvolvement', 'JobLevel', 'JobRole', 'MaritalStatus', 'WorkLifeBalance']\n",
        "\n",
        "\n",
        "# Create X_df using your selected columns\n",
        "X_df = attrition_df[selected_columns]\n",
        "\n",
        "# Show the data types for X_df\n",
        "print(X_df.dtypes)\n"
      ]
    },
    {
      "cell_type": "code",
      "execution_count": 23,
      "metadata": {
        "id": "KaJfdOGUMHMR",
        "colab": {
          "base_uri": "https://localhost:8080/"
        },
        "outputId": "b5b01b6e-efd8-4778-9e62-d353c69acb6d"
      },
      "outputs": [
        {
          "output_type": "stream",
          "name": "stdout",
          "text": [
            "X_train shape: (1176, 10)\n",
            "X_test shape: (294, 10)\n",
            "y_train shape: (1176, 2)\n",
            "y_test shape: (294, 2)\n"
          ]
        }
      ],
      "source": [
        "# Split the data into training and testing sets\n",
        "from sklearn.model_selection import train_test_split\n",
        "\n",
        "X = X_df.values\n",
        "y = y_df.values\n",
        "\n",
        "X_train, X_test, y_train, y_test = train_test_split(X, y, test_size=0.2, random_state=42)\n",
        "\n",
        "print(\"X_train shape:\", X_train.shape)\n",
        "print(\"X_test shape:\", X_test.shape)\n",
        "print(\"y_train shape:\", y_train.shape)\n",
        "print(\"y_test shape:\", y_test.shape)"
      ]
    },
    {
      "cell_type": "code",
      "source": [],
      "metadata": {
        "id": "BVil1BIW-eB4"
      },
      "execution_count": 23,
      "outputs": []
    },
    {
      "cell_type": "code",
      "execution_count": 24,
      "metadata": {
        "id": "NYubUJqiLCSp"
      },
      "outputs": [],
      "source": [
        "# Convert your X data to numeric data types however you see fit\n",
        "# Add new code cells as necessary\n",
        "from sklearn.preprocessing import OneHotEncoder\n",
        "categorical_columns = ['JobRole', 'MaritalStatus', 'WorkLifeBalance']\n",
        "\n",
        "# Initialize OneHotEncoder\n",
        "encoder = OneHotEncoder(sparse=False, handle_unknown='ignore')"
      ]
    },
    {
      "cell_type": "code",
      "source": [
        "# Fit and transform the categorical columns for training data\n",
        "X_train_categorical_encoded = encoder.fit_transform(X_train[:, [X_df.columns.get_loc(col) for col in categorical_columns]])\n",
        "\n",
        "# Transform the categorical columns for testing data\n",
        "X_test_categorical_encoded = encoder.transform(X_test[:, [X_df.columns.get_loc(col) for col in categorical_columns]])"
      ],
      "metadata": {
        "colab": {
          "base_uri": "https://localhost:8080/"
        },
        "id": "6WwyNUeCL2Wg",
        "outputId": "ef16d36c-8e01-45d1-9b59-a4eb9984cf92"
      },
      "execution_count": 25,
      "outputs": [
        {
          "output_type": "stream",
          "name": "stderr",
          "text": [
            "/usr/local/lib/python3.10/dist-packages/sklearn/preprocessing/_encoders.py:868: FutureWarning: `sparse` was renamed to `sparse_output` in version 1.2 and will be removed in 1.4. `sparse_output` is ignored unless you leave `sparse` to its default value.\n",
            "  warnings.warn(\n"
          ]
        }
      ]
    },
    {
      "cell_type": "code",
      "source": [
        "# Print the data types for X_df after encoding categorical variables\n",
        "X_train_encoded = pd.concat([X_df.drop(columns=categorical_columns), pd.DataFrame(X_train_categorical_encoded, columns=encoder.get_feature_names_out(categorical_columns))], axis=1)\n",
        "print(X_train_encoded.dtypes)"
      ],
      "metadata": {
        "colab": {
          "base_uri": "https://localhost:8080/"
        },
        "id": "7BxStSSHqcTC",
        "outputId": "31af9154-f9ad-48da-ce73-4ea1fda75858"
      },
      "execution_count": 26,
      "outputs": [
        {
          "output_type": "stream",
          "name": "stdout",
          "text": [
            "Age                                    int64\n",
            "DistanceFromHome                       int64\n",
            "Education                              int64\n",
            "EnvironmentSatisfaction                int64\n",
            "HourlyRate                             int64\n",
            "JobInvolvement                         int64\n",
            "JobLevel                               int64\n",
            "JobRole_Healthcare Representative    float64\n",
            "JobRole_Human Resources              float64\n",
            "JobRole_Laboratory Technician        float64\n",
            "JobRole_Manager                      float64\n",
            "JobRole_Manufacturing Director       float64\n",
            "JobRole_Research Director            float64\n",
            "JobRole_Research Scientist           float64\n",
            "JobRole_Sales Executive              float64\n",
            "JobRole_Sales Representative         float64\n",
            "MaritalStatus_Divorced               float64\n",
            "MaritalStatus_Married                float64\n",
            "MaritalStatus_Single                 float64\n",
            "WorkLifeBalance_1                    float64\n",
            "WorkLifeBalance_2                    float64\n",
            "WorkLifeBalance_3                    float64\n",
            "WorkLifeBalance_4                    float64\n",
            "dtype: object\n"
          ]
        }
      ]
    },
    {
      "cell_type": "code",
      "source": [
        "# Transform the categorical columns for testing data\n",
        "X_test_categorical_encoded = encoder.transform(X_test[:, [X_df.columns.get_loc(col) for col in categorical_columns]])\n",
        "\n",
        "# Get the indices of the categorical columns in X_df\n",
        "categorical_indices = [X_df.columns.get_loc(col) for col in categorical_columns]\n",
        "\n",
        "# Concatenate the encoded categorical variables with the scaled numerical variables\n",
        "X_test_encoded = np.concatenate([X_test[:, [i for i in range(X_test.shape[1]) if i not in categorical_indices]], X_test_categorical_encoded], axis=1)\n"
      ],
      "metadata": {
        "id": "PW5a8wlPWZg1"
      },
      "execution_count": 27,
      "outputs": []
    },
    {
      "cell_type": "code",
      "execution_count": 28,
      "metadata": {
        "id": "EWA-aIA5Gc3T",
        "colab": {
          "base_uri": "https://localhost:8080/"
        },
        "outputId": "3b84f016-2000-49f2-c6ac-cf97d72a6c45"
      },
      "outputs": [
        {
          "output_type": "stream",
          "name": "stderr",
          "text": [
            "/usr/local/lib/python3.10/dist-packages/sklearn/base.py:439: UserWarning: X does not have valid feature names, but StandardScaler was fitted with feature names\n",
            "  warnings.warn(\n"
          ]
        }
      ],
      "source": [
        "# Create a StandardScaler\n",
        "scaler = StandardScaler()\n",
        "# Fit the StandardScaler to the training data\n",
        "scaler.fit(X_train_encoded)\n",
        "# # Scale the training and testing data\n",
        "X_train_scaled = scaler.transform(X_train_encoded)\n",
        "X_test_scaled = scaler.transform(X_test_encoded)"
      ]
    },
    {
      "cell_type": "code",
      "execution_count": 29,
      "metadata": {
        "colab": {
          "base_uri": "https://localhost:8080/"
        },
        "id": "-z0Mky8vQSz4",
        "outputId": "f4d4917e-7644-494c-fbaa-d5b20d75194f"
      },
      "outputs": [
        {
          "output_type": "stream",
          "name": "stderr",
          "text": [
            "/usr/local/lib/python3.10/dist-packages/sklearn/preprocessing/_encoders.py:868: FutureWarning: `sparse` was renamed to `sparse_output` in version 1.2 and will be removed in 1.4. `sparse_output` is ignored unless you leave `sparse` to its default value.\n",
            "  warnings.warn(\n"
          ]
        }
      ],
      "source": [
        "# Create a OneHotEncoder for the Department column\n",
        "department_encoder = OneHotEncoder(sparse=False, handle_unknown='ignore')\n",
        "\n",
        "# Resize the index of the y_train array\n",
        "y_train = y_train[:, [y_df.columns.get_loc('Attrition'), y_df.columns.get_loc('Department')]]\n",
        "\n",
        "# Fit the encoder to the training data\n",
        "department_encoder.fit(y_train[:, [y_df.columns.get_loc('Department')]])\n",
        "\n",
        "# Create two new variables by applying the encoder\n",
        "# to the training and testing data\n",
        "y_train_department_encoded = department_encoder.transform(y_train[:, [y_df.columns.get_loc('Department')]])\n",
        "y_test_department_encoded = department_encoder.transform(y_test[:, [y_df.columns.get_loc('Department')]])\n",
        "\n"
      ]
    },
    {
      "cell_type": "code",
      "execution_count": 30,
      "metadata": {
        "colab": {
          "base_uri": "https://localhost:8080/"
        },
        "id": "-G4DSpvFRrk4",
        "outputId": "8bc61c77-dcdb-45d3-a8be-f08fe1e9a2cf"
      },
      "outputs": [
        {
          "output_type": "stream",
          "name": "stderr",
          "text": [
            "/usr/local/lib/python3.10/dist-packages/sklearn/preprocessing/_encoders.py:868: FutureWarning: `sparse` was renamed to `sparse_output` in version 1.2 and will be removed in 1.4. `sparse_output` is ignored unless you leave `sparse` to its default value.\n",
            "  warnings.warn(\n"
          ]
        }
      ],
      "source": [
        "# Create a OneHotEncoder for the Attrition column\n",
        "attrition_encoder = OneHotEncoder(sparse=False, handle_unknown='ignore')\n",
        "\n",
        "# Fit the encoder to the training data\n",
        "attrition_encoder.fit(y_train[:, [y_df.columns.get_loc('Attrition')]])\n",
        "\n",
        "# Create two new variables by applying the encoder\n",
        "# to the training and testing data\n",
        "y_train_encoded = attrition_encoder.transform(y_train[:, [0]])\n",
        "y_test_encoded = attrition_encoder.transform(y_test[:, [0]])\n"
      ]
    },
    {
      "cell_type": "code",
      "source": [],
      "metadata": {
        "id": "xDKkHuct4-qd"
      },
      "execution_count": 30,
      "outputs": []
    },
    {
      "cell_type": "markdown",
      "metadata": {
        "id": "ykNmu_WWGc3T"
      },
      "source": [
        "## Create, Compile, and Train the Model"
      ]
    },
    {
      "cell_type": "code",
      "execution_count": 31,
      "metadata": {
        "id": "WUptZqmSGc3T"
      },
      "outputs": [],
      "source": [
        "from tensorflow.keras.layers import Input, Dense\n",
        "\n",
        "# Find the number of columns in the X training data\n",
        "num_input_features = X_train_categorical_encoded.shape[1]\n",
        "\n",
        "# Create the input layer\n",
        "input_layer = Input(shape=(num_input_features,))\n",
        "\n",
        "# Create at least two shared layers\n",
        "shared_layer_1 = Dense(64, activation='relu')(input_layer)\n",
        "shared_layer_2 = Dense(64, activation='relu')(shared_layer_1)"
      ]
    },
    {
      "cell_type": "code",
      "execution_count": 32,
      "metadata": {
        "id": "JukjTm2yTEqd"
      },
      "outputs": [],
      "source": [
        "# Create a branch for Department\n",
        "# with a hidden layer and an output layer\n",
        "num_departments = len(y_df['Department'].unique())\n",
        "# Create the hidden layer\n",
        "department_hidden_layer = Dense(64, activation='relu')(shared_layer_2)\n",
        "\n",
        "# Create the output layer\n",
        "department_output_layer = Dense(num_departments, activation='softmax', name='department_output')(department_hidden_layer)\n"
      ]
    },
    {
      "cell_type": "code",
      "execution_count": 33,
      "metadata": {
        "id": "9OqhUiOJUBkR"
      },
      "outputs": [],
      "source": [
        "# Create a branch for Attrition\n",
        "# with a hidden layer and an output layer\n",
        "num_classes = len(y_df['Attrition'].unique())\n",
        "# Create the hidden layer\n",
        "attrition_hidden_layer = Dense(64, activation='relu')(shared_layer_2)\n",
        "\n",
        "# Create the output layer\n",
        "attrition_output_layer = Dense(num_classes, activation='softmax', name='attrition_output')(attrition_hidden_layer)\n"
      ]
    },
    {
      "cell_type": "code",
      "execution_count": 34,
      "metadata": {
        "colab": {
          "base_uri": "https://localhost:8080/"
        },
        "id": "twmuejdxGc3T",
        "outputId": "72819144-fae5-4bc2-8487-d6778b7dc743"
      },
      "outputs": [
        {
          "output_type": "stream",
          "name": "stdout",
          "text": [
            "Model: \"model_1\"\n",
            "__________________________________________________________________________________________________\n",
            " Layer (type)                Output Shape                 Param #   Connected to                  \n",
            "==================================================================================================\n",
            " input_2 (InputLayer)        [(None, 16)]                 0         []                            \n",
            "                                                                                                  \n",
            " dense_4 (Dense)             (None, 64)                   1088      ['input_2[0][0]']             \n",
            "                                                                                                  \n",
            " dense_5 (Dense)             (None, 64)                   4160      ['dense_4[0][0]']             \n",
            "                                                                                                  \n",
            " dense_6 (Dense)             (None, 64)                   4160      ['dense_5[0][0]']             \n",
            "                                                                                                  \n",
            " dense_7 (Dense)             (None, 64)                   4160      ['dense_5[0][0]']             \n",
            "                                                                                                  \n",
            " department_output (Dense)   (None, 3)                    195       ['dense_6[0][0]']             \n",
            "                                                                                                  \n",
            " attrition_output (Dense)    (None, 2)                    130       ['dense_7[0][0]']             \n",
            "                                                                                                  \n",
            "==================================================================================================\n",
            "Total params: 13893 (54.27 KB)\n",
            "Trainable params: 13893 (54.27 KB)\n",
            "Non-trainable params: 0 (0.00 Byte)\n",
            "__________________________________________________________________________________________________\n"
          ]
        }
      ],
      "source": [
        "from tensorflow.keras.optimizers import Adam\n",
        "\n",
        "# Create the model\n",
        "model = Model(inputs=input_layer, outputs=[department_output_layer, attrition_output_layer])\n",
        "\n",
        "# Compile the model\n",
        "model.compile(optimizer=Adam(learning_rate=0.001),\n",
        "              loss={'department_output': 'categorical_crossentropy', 'attrition_output': 'categorical_crossentropy'},\n",
        "              metrics={'department_output': 'accuracy', 'attrition_output': 'accuracy'})\n",
        "\n",
        "# Summarize the model\n",
        "model.summary()\n"
      ]
    },
    {
      "cell_type": "code",
      "execution_count": 42,
      "metadata": {
        "colab": {
          "base_uri": "https://localhost:8080/"
        },
        "id": "c8oGy0dpGc3U",
        "outputId": "430c000b-f828-42cc-970d-a218383acf33"
      },
      "outputs": [
        {
          "output_type": "stream",
          "name": "stdout",
          "text": [
            "Epoch 1/50\n",
            "19/19 [==============================] - 0s 18ms/step - loss: 0.4577 - department_output_loss: 0.0722 - attrition_output_loss: 0.3855 - department_output_accuracy: 0.9626 - attrition_output_accuracy: 0.8359 - val_loss: 0.4912 - val_department_output_loss: 0.0874 - val_attrition_output_loss: 0.4037 - val_department_output_accuracy: 0.9558 - val_attrition_output_accuracy: 0.8707\n",
            "Epoch 2/50\n",
            "19/19 [==============================] - 0s 15ms/step - loss: 0.4499 - department_output_loss: 0.0660 - attrition_output_loss: 0.3838 - department_output_accuracy: 0.9677 - attrition_output_accuracy: 0.8350 - val_loss: 0.4889 - val_department_output_loss: 0.0811 - val_attrition_output_loss: 0.4079 - val_department_output_accuracy: 0.9660 - val_attrition_output_accuracy: 0.8741\n",
            "Epoch 3/50\n",
            "19/19 [==============================] - 0s 9ms/step - loss: 0.4468 - department_output_loss: 0.0656 - attrition_output_loss: 0.3812 - department_output_accuracy: 0.9685 - attrition_output_accuracy: 0.8384 - val_loss: 0.4875 - val_department_output_loss: 0.0825 - val_attrition_output_loss: 0.4050 - val_department_output_accuracy: 0.9694 - val_attrition_output_accuracy: 0.8741\n",
            "Epoch 4/50\n",
            "19/19 [==============================] - 0s 11ms/step - loss: 0.4467 - department_output_loss: 0.0660 - attrition_output_loss: 0.3807 - department_output_accuracy: 0.9677 - attrition_output_accuracy: 0.8367 - val_loss: 0.4944 - val_department_output_loss: 0.0812 - val_attrition_output_loss: 0.4132 - val_department_output_accuracy: 0.9694 - val_attrition_output_accuracy: 0.8673\n",
            "Epoch 5/50\n",
            "19/19 [==============================] - 0s 9ms/step - loss: 0.4479 - department_output_loss: 0.0653 - attrition_output_loss: 0.3826 - department_output_accuracy: 0.9685 - attrition_output_accuracy: 0.8359 - val_loss: 0.5104 - val_department_output_loss: 0.1033 - val_attrition_output_loss: 0.4070 - val_department_output_accuracy: 0.9422 - val_attrition_output_accuracy: 0.8741\n",
            "Epoch 6/50\n",
            "19/19 [==============================] - 0s 9ms/step - loss: 0.4562 - department_output_loss: 0.0662 - attrition_output_loss: 0.3900 - department_output_accuracy: 0.9634 - attrition_output_accuracy: 0.8376 - val_loss: 0.4869 - val_department_output_loss: 0.0819 - val_attrition_output_loss: 0.4050 - val_department_output_accuracy: 0.9660 - val_attrition_output_accuracy: 0.8741\n",
            "Epoch 7/50\n",
            "19/19 [==============================] - 0s 9ms/step - loss: 0.4480 - department_output_loss: 0.0651 - attrition_output_loss: 0.3830 - department_output_accuracy: 0.9660 - attrition_output_accuracy: 0.8376 - val_loss: 0.5078 - val_department_output_loss: 0.0826 - val_attrition_output_loss: 0.4251 - val_department_output_accuracy: 0.9626 - val_attrition_output_accuracy: 0.8571\n",
            "Epoch 8/50\n",
            "19/19 [==============================] - 0s 11ms/step - loss: 0.4392 - department_output_loss: 0.0612 - attrition_output_loss: 0.3780 - department_output_accuracy: 0.9694 - attrition_output_accuracy: 0.8359 - val_loss: 0.5099 - val_department_output_loss: 0.0972 - val_attrition_output_loss: 0.4128 - val_department_output_accuracy: 0.9422 - val_attrition_output_accuracy: 0.8776\n",
            "Epoch 9/50\n",
            "19/19 [==============================] - 0s 12ms/step - loss: 0.4418 - department_output_loss: 0.0643 - attrition_output_loss: 0.3776 - department_output_accuracy: 0.9660 - attrition_output_accuracy: 0.8342 - val_loss: 0.4997 - val_department_output_loss: 0.0840 - val_attrition_output_loss: 0.4157 - val_department_output_accuracy: 0.9660 - val_attrition_output_accuracy: 0.8673\n",
            "Epoch 10/50\n",
            "19/19 [==============================] - 0s 9ms/step - loss: 0.4389 - department_output_loss: 0.0604 - attrition_output_loss: 0.3784 - department_output_accuracy: 0.9651 - attrition_output_accuracy: 0.8376 - val_loss: 0.5110 - val_department_output_loss: 0.0867 - val_attrition_output_loss: 0.4243 - val_department_output_accuracy: 0.9558 - val_attrition_output_accuracy: 0.8707\n",
            "Epoch 11/50\n",
            "19/19 [==============================] - 0s 11ms/step - loss: 0.4365 - department_output_loss: 0.0602 - attrition_output_loss: 0.3764 - department_output_accuracy: 0.9702 - attrition_output_accuracy: 0.8435 - val_loss: 0.5123 - val_department_output_loss: 0.0965 - val_attrition_output_loss: 0.4159 - val_department_output_accuracy: 0.9422 - val_attrition_output_accuracy: 0.8673\n",
            "Epoch 12/50\n",
            "19/19 [==============================] - 0s 9ms/step - loss: 0.4362 - department_output_loss: 0.0603 - attrition_output_loss: 0.3759 - department_output_accuracy: 0.9694 - attrition_output_accuracy: 0.8376 - val_loss: 0.5086 - val_department_output_loss: 0.0846 - val_attrition_output_loss: 0.4240 - val_department_output_accuracy: 0.9660 - val_attrition_output_accuracy: 0.8707\n",
            "Epoch 13/50\n",
            "19/19 [==============================] - 0s 10ms/step - loss: 0.4370 - department_output_loss: 0.0610 - attrition_output_loss: 0.3760 - department_output_accuracy: 0.9711 - attrition_output_accuracy: 0.8401 - val_loss: 0.5206 - val_department_output_loss: 0.0983 - val_attrition_output_loss: 0.4223 - val_department_output_accuracy: 0.9422 - val_attrition_output_accuracy: 0.8707\n",
            "Epoch 14/50\n",
            "19/19 [==============================] - 0s 11ms/step - loss: 0.4331 - department_output_loss: 0.0592 - attrition_output_loss: 0.3739 - department_output_accuracy: 0.9736 - attrition_output_accuracy: 0.8359 - val_loss: 0.5070 - val_department_output_loss: 0.0865 - val_attrition_output_loss: 0.4205 - val_department_output_accuracy: 0.9524 - val_attrition_output_accuracy: 0.8707\n",
            "Epoch 15/50\n",
            "19/19 [==============================] - 0s 12ms/step - loss: 0.4315 - department_output_loss: 0.0595 - attrition_output_loss: 0.3720 - department_output_accuracy: 0.9711 - attrition_output_accuracy: 0.8418 - val_loss: 0.5147 - val_department_output_loss: 0.0899 - val_attrition_output_loss: 0.4248 - val_department_output_accuracy: 0.9524 - val_attrition_output_accuracy: 0.8707\n",
            "Epoch 16/50\n",
            "19/19 [==============================] - 0s 9ms/step - loss: 0.4334 - department_output_loss: 0.0616 - attrition_output_loss: 0.3718 - department_output_accuracy: 0.9677 - attrition_output_accuracy: 0.8444 - val_loss: 0.5259 - val_department_output_loss: 0.1010 - val_attrition_output_loss: 0.4249 - val_department_output_accuracy: 0.9456 - val_attrition_output_accuracy: 0.8707\n",
            "Epoch 17/50\n",
            "19/19 [==============================] - 0s 6ms/step - loss: 0.4339 - department_output_loss: 0.0621 - attrition_output_loss: 0.3717 - department_output_accuracy: 0.9685 - attrition_output_accuracy: 0.8376 - val_loss: 0.5086 - val_department_output_loss: 0.0869 - val_attrition_output_loss: 0.4217 - val_department_output_accuracy: 0.9524 - val_attrition_output_accuracy: 0.8707\n",
            "Epoch 18/50\n",
            "19/19 [==============================] - 0s 7ms/step - loss: 0.4348 - department_output_loss: 0.0630 - attrition_output_loss: 0.3718 - department_output_accuracy: 0.9651 - attrition_output_accuracy: 0.8418 - val_loss: 0.5179 - val_department_output_loss: 0.0877 - val_attrition_output_loss: 0.4302 - val_department_output_accuracy: 0.9728 - val_attrition_output_accuracy: 0.8707\n",
            "Epoch 19/50\n",
            "19/19 [==============================] - 0s 6ms/step - loss: 0.4351 - department_output_loss: 0.0635 - attrition_output_loss: 0.3716 - department_output_accuracy: 0.9677 - attrition_output_accuracy: 0.8427 - val_loss: 0.5183 - val_department_output_loss: 0.0917 - val_attrition_output_loss: 0.4266 - val_department_output_accuracy: 0.9422 - val_attrition_output_accuracy: 0.8741\n",
            "Epoch 20/50\n",
            "19/19 [==============================] - 0s 5ms/step - loss: 0.4292 - department_output_loss: 0.0583 - attrition_output_loss: 0.3710 - department_output_accuracy: 0.9668 - attrition_output_accuracy: 0.8444 - val_loss: 0.5326 - val_department_output_loss: 0.0920 - val_attrition_output_loss: 0.4406 - val_department_output_accuracy: 0.9524 - val_attrition_output_accuracy: 0.8707\n",
            "Epoch 21/50\n",
            "19/19 [==============================] - 0s 6ms/step - loss: 0.4333 - department_output_loss: 0.0596 - attrition_output_loss: 0.3737 - department_output_accuracy: 0.9694 - attrition_output_accuracy: 0.8376 - val_loss: 0.5207 - val_department_output_loss: 0.0876 - val_attrition_output_loss: 0.4331 - val_department_output_accuracy: 0.9558 - val_attrition_output_accuracy: 0.8741\n",
            "Epoch 22/50\n",
            "19/19 [==============================] - 0s 5ms/step - loss: 0.4338 - department_output_loss: 0.0604 - attrition_output_loss: 0.3733 - department_output_accuracy: 0.9736 - attrition_output_accuracy: 0.8410 - val_loss: 0.5235 - val_department_output_loss: 0.0975 - val_attrition_output_loss: 0.4260 - val_department_output_accuracy: 0.9422 - val_attrition_output_accuracy: 0.8741\n",
            "Epoch 23/50\n",
            "19/19 [==============================] - 0s 5ms/step - loss: 0.4340 - department_output_loss: 0.0639 - attrition_output_loss: 0.3701 - department_output_accuracy: 0.9660 - attrition_output_accuracy: 0.8410 - val_loss: 0.5205 - val_department_output_loss: 0.0858 - val_attrition_output_loss: 0.4347 - val_department_output_accuracy: 0.9558 - val_attrition_output_accuracy: 0.8707\n",
            "Epoch 24/50\n",
            "19/19 [==============================] - 0s 5ms/step - loss: 0.4288 - department_output_loss: 0.0596 - attrition_output_loss: 0.3692 - department_output_accuracy: 0.9694 - attrition_output_accuracy: 0.8418 - val_loss: 0.5250 - val_department_output_loss: 0.0869 - val_attrition_output_loss: 0.4381 - val_department_output_accuracy: 0.9558 - val_attrition_output_accuracy: 0.8707\n",
            "Epoch 25/50\n",
            "19/19 [==============================] - 0s 6ms/step - loss: 0.4303 - department_output_loss: 0.0594 - attrition_output_loss: 0.3709 - department_output_accuracy: 0.9719 - attrition_output_accuracy: 0.8427 - val_loss: 0.5220 - val_department_output_loss: 0.0839 - val_attrition_output_loss: 0.4381 - val_department_output_accuracy: 0.9694 - val_attrition_output_accuracy: 0.8741\n",
            "Epoch 26/50\n",
            "19/19 [==============================] - 0s 5ms/step - loss: 0.4323 - department_output_loss: 0.0595 - attrition_output_loss: 0.3729 - department_output_accuracy: 0.9694 - attrition_output_accuracy: 0.8359 - val_loss: 0.5285 - val_department_output_loss: 0.0857 - val_attrition_output_loss: 0.4428 - val_department_output_accuracy: 0.9694 - val_attrition_output_accuracy: 0.8707\n",
            "Epoch 27/50\n",
            "19/19 [==============================] - 0s 5ms/step - loss: 0.4319 - department_output_loss: 0.0595 - attrition_output_loss: 0.3724 - department_output_accuracy: 0.9694 - attrition_output_accuracy: 0.8410 - val_loss: 0.5373 - val_department_output_loss: 0.0962 - val_attrition_output_loss: 0.4411 - val_department_output_accuracy: 0.9422 - val_attrition_output_accuracy: 0.8707\n",
            "Epoch 28/50\n",
            "19/19 [==============================] - 0s 5ms/step - loss: 0.4286 - department_output_loss: 0.0603 - attrition_output_loss: 0.3683 - department_output_accuracy: 0.9685 - attrition_output_accuracy: 0.8418 - val_loss: 0.5330 - val_department_output_loss: 0.0923 - val_attrition_output_loss: 0.4408 - val_department_output_accuracy: 0.9524 - val_attrition_output_accuracy: 0.8741\n",
            "Epoch 29/50\n",
            "19/19 [==============================] - 0s 6ms/step - loss: 0.4280 - department_output_loss: 0.0605 - attrition_output_loss: 0.3675 - department_output_accuracy: 0.9668 - attrition_output_accuracy: 0.8401 - val_loss: 0.5266 - val_department_output_loss: 0.0844 - val_attrition_output_loss: 0.4422 - val_department_output_accuracy: 0.9728 - val_attrition_output_accuracy: 0.8707\n",
            "Epoch 30/50\n",
            "19/19 [==============================] - 0s 5ms/step - loss: 0.4353 - department_output_loss: 0.0647 - attrition_output_loss: 0.3706 - department_output_accuracy: 0.9617 - attrition_output_accuracy: 0.8418 - val_loss: 0.5315 - val_department_output_loss: 0.0880 - val_attrition_output_loss: 0.4435 - val_department_output_accuracy: 0.9592 - val_attrition_output_accuracy: 0.8707\n",
            "Epoch 31/50\n",
            "19/19 [==============================] - 0s 6ms/step - loss: 0.4292 - department_output_loss: 0.0578 - attrition_output_loss: 0.3713 - department_output_accuracy: 0.9719 - attrition_output_accuracy: 0.8418 - val_loss: 0.5432 - val_department_output_loss: 0.0950 - val_attrition_output_loss: 0.4482 - val_department_output_accuracy: 0.9422 - val_attrition_output_accuracy: 0.8776\n",
            "Epoch 32/50\n",
            "19/19 [==============================] - 0s 5ms/step - loss: 0.4278 - department_output_loss: 0.0585 - attrition_output_loss: 0.3693 - department_output_accuracy: 0.9711 - attrition_output_accuracy: 0.8469 - val_loss: 0.5273 - val_department_output_loss: 0.0891 - val_attrition_output_loss: 0.4382 - val_department_output_accuracy: 0.9558 - val_attrition_output_accuracy: 0.8776\n",
            "Epoch 33/50\n",
            "19/19 [==============================] - 0s 5ms/step - loss: 0.4267 - department_output_loss: 0.0589 - attrition_output_loss: 0.3678 - department_output_accuracy: 0.9702 - attrition_output_accuracy: 0.8435 - val_loss: 0.5440 - val_department_output_loss: 0.0964 - val_attrition_output_loss: 0.4476 - val_department_output_accuracy: 0.9422 - val_attrition_output_accuracy: 0.8673\n",
            "Epoch 34/50\n",
            "19/19 [==============================] - 0s 6ms/step - loss: 0.4285 - department_output_loss: 0.0617 - attrition_output_loss: 0.3668 - department_output_accuracy: 0.9719 - attrition_output_accuracy: 0.8452 - val_loss: 0.5434 - val_department_output_loss: 0.0865 - val_attrition_output_loss: 0.4569 - val_department_output_accuracy: 0.9694 - val_attrition_output_accuracy: 0.8741\n",
            "Epoch 35/50\n",
            "19/19 [==============================] - 0s 5ms/step - loss: 0.4269 - department_output_loss: 0.0579 - attrition_output_loss: 0.3690 - department_output_accuracy: 0.9677 - attrition_output_accuracy: 0.8478 - val_loss: 0.5466 - val_department_output_loss: 0.1002 - val_attrition_output_loss: 0.4464 - val_department_output_accuracy: 0.9422 - val_attrition_output_accuracy: 0.8741\n",
            "Epoch 36/50\n",
            "19/19 [==============================] - 0s 5ms/step - loss: 0.4242 - department_output_loss: 0.0582 - attrition_output_loss: 0.3660 - department_output_accuracy: 0.9702 - attrition_output_accuracy: 0.8444 - val_loss: 0.5455 - val_department_output_loss: 0.0886 - val_attrition_output_loss: 0.4570 - val_department_output_accuracy: 0.9660 - val_attrition_output_accuracy: 0.8776\n",
            "Epoch 37/50\n",
            "19/19 [==============================] - 0s 6ms/step - loss: 0.4273 - department_output_loss: 0.0590 - attrition_output_loss: 0.3683 - department_output_accuracy: 0.9711 - attrition_output_accuracy: 0.8444 - val_loss: 0.5429 - val_department_output_loss: 0.0877 - val_attrition_output_loss: 0.4551 - val_department_output_accuracy: 0.9558 - val_attrition_output_accuracy: 0.8707\n",
            "Epoch 38/50\n",
            "19/19 [==============================] - 0s 6ms/step - loss: 0.4262 - department_output_loss: 0.0603 - attrition_output_loss: 0.3659 - department_output_accuracy: 0.9711 - attrition_output_accuracy: 0.8461 - val_loss: 0.5500 - val_department_output_loss: 0.0971 - val_attrition_output_loss: 0.4529 - val_department_output_accuracy: 0.9422 - val_attrition_output_accuracy: 0.8741\n",
            "Epoch 39/50\n",
            "19/19 [==============================] - 0s 5ms/step - loss: 0.4254 - department_output_loss: 0.0602 - attrition_output_loss: 0.3652 - department_output_accuracy: 0.9668 - attrition_output_accuracy: 0.8469 - val_loss: 0.5513 - val_department_output_loss: 0.0956 - val_attrition_output_loss: 0.4557 - val_department_output_accuracy: 0.9422 - val_attrition_output_accuracy: 0.8707\n",
            "Epoch 40/50\n",
            "19/19 [==============================] - 0s 5ms/step - loss: 0.4310 - department_output_loss: 0.0639 - attrition_output_loss: 0.3671 - department_output_accuracy: 0.9651 - attrition_output_accuracy: 0.8452 - val_loss: 0.5430 - val_department_output_loss: 0.0896 - val_attrition_output_loss: 0.4534 - val_department_output_accuracy: 0.9660 - val_attrition_output_accuracy: 0.8673\n",
            "Epoch 41/50\n",
            "19/19 [==============================] - 0s 5ms/step - loss: 0.4272 - department_output_loss: 0.0611 - attrition_output_loss: 0.3661 - department_output_accuracy: 0.9660 - attrition_output_accuracy: 0.8444 - val_loss: 0.5491 - val_department_output_loss: 0.0901 - val_attrition_output_loss: 0.4590 - val_department_output_accuracy: 0.9626 - val_attrition_output_accuracy: 0.8707\n",
            "Epoch 42/50\n",
            "19/19 [==============================] - 0s 5ms/step - loss: 0.4250 - department_output_loss: 0.0590 - attrition_output_loss: 0.3660 - department_output_accuracy: 0.9702 - attrition_output_accuracy: 0.8452 - val_loss: 0.5686 - val_department_output_loss: 0.1029 - val_attrition_output_loss: 0.4657 - val_department_output_accuracy: 0.9422 - val_attrition_output_accuracy: 0.8707\n",
            "Epoch 43/50\n",
            "19/19 [==============================] - 0s 6ms/step - loss: 0.4253 - department_output_loss: 0.0608 - attrition_output_loss: 0.3645 - department_output_accuracy: 0.9685 - attrition_output_accuracy: 0.8461 - val_loss: 0.5589 - val_department_output_loss: 0.0945 - val_attrition_output_loss: 0.4644 - val_department_output_accuracy: 0.9524 - val_attrition_output_accuracy: 0.8707\n",
            "Epoch 44/50\n",
            "19/19 [==============================] - 0s 5ms/step - loss: 0.4258 - department_output_loss: 0.0587 - attrition_output_loss: 0.3671 - department_output_accuracy: 0.9685 - attrition_output_accuracy: 0.8452 - val_loss: 0.5582 - val_department_output_loss: 0.0944 - val_attrition_output_loss: 0.4638 - val_department_output_accuracy: 0.9524 - val_attrition_output_accuracy: 0.8707\n",
            "Epoch 45/50\n",
            "19/19 [==============================] - 0s 5ms/step - loss: 0.4221 - department_output_loss: 0.0574 - attrition_output_loss: 0.3648 - department_output_accuracy: 0.9728 - attrition_output_accuracy: 0.8427 - val_loss: 0.5538 - val_department_output_loss: 0.0908 - val_attrition_output_loss: 0.4630 - val_department_output_accuracy: 0.9558 - val_attrition_output_accuracy: 0.8707\n",
            "Epoch 46/50\n",
            "19/19 [==============================] - 0s 5ms/step - loss: 0.4228 - department_output_loss: 0.0594 - attrition_output_loss: 0.3635 - department_output_accuracy: 0.9677 - attrition_output_accuracy: 0.8401 - val_loss: 0.5677 - val_department_output_loss: 0.0933 - val_attrition_output_loss: 0.4744 - val_department_output_accuracy: 0.9524 - val_attrition_output_accuracy: 0.8673\n",
            "Epoch 47/50\n",
            "19/19 [==============================] - 0s 5ms/step - loss: 0.4224 - department_output_loss: 0.0585 - attrition_output_loss: 0.3639 - department_output_accuracy: 0.9677 - attrition_output_accuracy: 0.8452 - val_loss: 0.5623 - val_department_output_loss: 0.0893 - val_attrition_output_loss: 0.4729 - val_department_output_accuracy: 0.9694 - val_attrition_output_accuracy: 0.8741\n",
            "Epoch 48/50\n",
            "19/19 [==============================] - 0s 5ms/step - loss: 0.4279 - department_output_loss: 0.0595 - attrition_output_loss: 0.3685 - department_output_accuracy: 0.9685 - attrition_output_accuracy: 0.8401 - val_loss: 0.5600 - val_department_output_loss: 0.0922 - val_attrition_output_loss: 0.4678 - val_department_output_accuracy: 0.9524 - val_attrition_output_accuracy: 0.8707\n",
            "Epoch 49/50\n",
            "19/19 [==============================] - 0s 6ms/step - loss: 0.4218 - department_output_loss: 0.0577 - attrition_output_loss: 0.3640 - department_output_accuracy: 0.9668 - attrition_output_accuracy: 0.8384 - val_loss: 0.5755 - val_department_output_loss: 0.0958 - val_attrition_output_loss: 0.4797 - val_department_output_accuracy: 0.9524 - val_attrition_output_accuracy: 0.8707\n",
            "Epoch 50/50\n",
            "19/19 [==============================] - 0s 5ms/step - loss: 0.4229 - department_output_loss: 0.0582 - attrition_output_loss: 0.3648 - department_output_accuracy: 0.9702 - attrition_output_accuracy: 0.8478 - val_loss: 0.5653 - val_department_output_loss: 0.0952 - val_attrition_output_loss: 0.4701 - val_department_output_accuracy: 0.9524 - val_attrition_output_accuracy: 0.8673\n"
          ]
        }
      ],
      "source": [
        "model_history = model.fit(X_train_categorical_encoded, {'department_output': y_train_department_encoded, 'attrition_output': y_train_encoded},\n",
        "                    validation_data=(X_test_categorical_encoded, {'department_output': y_test_department_encoded, 'attrition_output': y_test_encoded}),\n",
        "                    epochs=50, batch_size=64)\n"
      ]
    },
    {
      "cell_type": "code",
      "source": [
        "print(y_train_department_encoded.dtype)\n",
        "print(y_train_encoded.dtype)\n",
        "print(y_test_department_encoded.dtype)\n",
        "print(X_train_categorical_encoded.dtype)\n",
        "print(X_test_encoded.dtype)"
      ],
      "metadata": {
        "colab": {
          "base_uri": "https://localhost:8080/"
        },
        "id": "yNtcKEn99lX8",
        "outputId": "7caa30fc-1be5-4316-82f3-84d647526025"
      },
      "execution_count": 40,
      "outputs": [
        {
          "output_type": "stream",
          "name": "stdout",
          "text": [
            "float64\n",
            "float64\n",
            "float64\n",
            "float64\n",
            "object\n"
          ]
        }
      ]
    },
    {
      "cell_type": "code",
      "execution_count": 46,
      "metadata": {
        "colab": {
          "base_uri": "https://localhost:8080/"
        },
        "id": "VsMoaQlgGc3U",
        "outputId": "71365676-79b0-440a-a25f-058eb04db479"
      },
      "outputs": [
        {
          "output_type": "stream",
          "name": "stdout",
          "text": [
            "10/10 [==============================] - 0s 8ms/step - loss: 0.5653 - department_output_loss: 0.0952 - attrition_output_loss: 0.4701 - department_output_accuracy: 0.9524 - attrition_output_accuracy: 0.8673\n",
            "Evaluation results: [0.5653046369552612, 0.09516385942697525, 0.4701407849788666, 0.9523809552192688, 0.8673469424247742]\n"
          ]
        }
      ],
      "source": [
        "# Evaluate the model with the testing data\n",
        "evaluation_results = model.evaluate(X_test_categorical_encoded, {'department_output': y_test_department_encoded, 'attrition_output': y_test_encoded})\n",
        "\n",
        "# Print the evaluation results\n",
        "print(\"Evaluation results:\", evaluation_results)"
      ]
    },
    {
      "cell_type": "code",
      "execution_count": 44,
      "metadata": {
        "colab": {
          "base_uri": "https://localhost:8080/"
        },
        "id": "ZlCtlHi0Vt54",
        "outputId": "97bfcff7-188b-46af-e499-8e508f24d8f0"
      },
      "outputs": [
        {
          "output_type": "stream",
          "name": "stdout",
          "text": [
            "Department Output Accuracy: 0.9523809552192688\n",
            "Attrition Output Accuracy: 0.8673469424247742\n"
          ]
        }
      ],
      "source": [
        "# Print the accuracy for both department and attrition\n",
        "print(\"Department Output Accuracy:\", evaluation_results[3])\n",
        "print(\"Attrition Output Accuracy:\", evaluation_results[4])\n"
      ]
    },
    {
      "cell_type": "markdown",
      "metadata": {
        "id": "eGSyfsZfWOQM"
      },
      "source": [
        "# Summary\n",
        "\n",
        "In the provided space below, briefly answer the following questions.\n",
        "\n",
        "1. Is accuracy the best metric to use on this data? Why or why not?\n",
        "\n",
        "2. What activation functions did you choose for your output layers, and why?\n",
        "\n",
        "3. Can you name a few ways that this model might be improved?"
      ]
    },
    {
      "cell_type": "markdown",
      "metadata": {
        "id": "pi9SLpFnWvbF"
      },
      "source": [
        "YOUR ANSWERS HERE\n",
        "\n",
        "1. Metrics like precision, recall, or F1-score might provide a more nuanced evaluation of the model's performance, especially for the minority class.\n",
        "2. ReLU (Rectified Linear Unit) for Hidden Layers:\n",
        "ReLU is a simple and computationally efficient activation function that has been shown to work well in many deep learning architectures. Softmax for Output Layers:\n",
        "Softmax is commonly used for multi-class classification problems where the output is categorical and mutually exclusive.\n",
        "3. Hyperparameter Tuning, Trying different architectures, such as adding more layers or adjusting the number of neurons in each layer, to improve performance,\n",
        "Feature Engineering,\n",
        "and Ensemble Methods"
      ]
    },
    {
      "cell_type": "markdown",
      "metadata": {
        "id": "Hu-A328DduBT"
      },
      "source": []
    }
  ],
  "metadata": {
    "colab": {
      "provenance": []
    },
    "kernelspec": {
      "display_name": "Python 3",
      "language": "python",
      "name": "python3"
    },
    "language_info": {
      "codemirror_mode": {
        "name": "ipython",
        "version": 3
      },
      "file_extension": ".py",
      "mimetype": "text/x-python",
      "name": "python",
      "nbconvert_exporter": "python",
      "pygments_lexer": "ipython3",
      "version": "3.9.18"
    },
    "vscode": {
      "interpreter": {
        "hash": "31f2aee4e71d21fbe5cf8b01ff0e069b9275f58929596ceb00d14d90e3e16cd6"
      }
    }
  },
  "nbformat": 4,
  "nbformat_minor": 0
}